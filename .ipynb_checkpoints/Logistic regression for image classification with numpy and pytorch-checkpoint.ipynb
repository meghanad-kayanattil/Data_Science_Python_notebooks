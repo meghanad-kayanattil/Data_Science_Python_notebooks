{
 "cells": [
  {
   "cell_type": "code",
   "execution_count": null,
   "id": "10f7b0ac",
   "metadata": {},
   "outputs": [],
   "source": []
  },
  {
   "cell_type": "code",
   "execution_count": 1,
   "id": "066906c3",
   "metadata": {},
   "outputs": [],
   "source": [
    "import numpy as np\n",
    "import matplotlib.pyplot as plt"
   ]
  },
  {
   "cell_type": "code",
   "execution_count": 2,
   "id": "0c99a1d4",
   "metadata": {},
   "outputs": [],
   "source": [
    "### Plotting - Settings\n",
    "plt.rcParams['font.family'] = 'sans-serif'\n",
    "plt.rcParams['font.size'] = 18\n",
    "plt.rcParams['axes.labelsize'] = 18\n",
    "plt.rcParams['axes.labelweight'] = 'bold'\n",
    "plt.rcParams['xtick.labelsize'] = 18\n",
    "plt.rcParams['ytick.labelsize'] = 18\n",
    "plt.rcParams['legend.fontsize'] = 18\n",
    "plt.rcParams['figure.titlesize'] = 18\n",
    "plt.rcParams['figure.titleweight'] = 'bold'"
   ]
  },
  {
   "cell_type": "markdown",
   "id": "c30c4512",
   "metadata": {},
   "source": [
    "# Sub functions"
   ]
  },
  {
   "cell_type": "code",
   "execution_count": 3,
   "id": "298e0765",
   "metadata": {},
   "outputs": [],
   "source": [
    "def w_b_initiation(dim):\n",
    "    \"\"\"\n",
    "    Creates a w vector with zeros\n",
    "    \n",
    "    Input : dimesion of the training example (In case of images the nx of flattened 3d array)\n",
    "    \n",
    "    Output : w of shape(dim,1)\n",
    "             b = 0.0   \n",
    "    \n",
    "    \"\"\"\n",
    "    w = np.zeros([dim,1]) #shape = (nx,1)\n",
    "    b = 0.0\n",
    "    return w,b\n",
    "\n",
    "\n",
    "def Z_calc(w,x,b):\n",
    "    \"\"\"\n",
    "    Calculates z given a input data, feature array and b\n",
    "    \n",
    "    Input : x - input data, w - feature array, b - constant\n",
    "    \n",
    "    \"\"\"\n",
    "    z = np.dot(w.T,x)+b\n",
    "    return z\n",
    "\n",
    "def sigmoid(z):\n",
    "    \"\"\"\n",
    "    Calculates the sigmoid function value given Z\n",
    "    \n",
    "    \"\"\"\n",
    "    a = 1/(1+np.exp(-z))\n",
    "    return a\n",
    "\n",
    "def cost_func(w,b,X, Y):\n",
    "    \"\"\"\n",
    "    Cost function calculation\n",
    "    \n",
    "    \"\"\"\n",
    "    z = Z_calc(w,X,b) #shape = (m,nx)\n",
    "    a = sigmoid(z) #shape = (m,nx)\n",
    "    m = Y.shape[0]\n",
    "    #y.reshape(m_train,1)\n",
    "    \n",
    "    y_log_a = Y*np.log(a) #shape = (nx,1)*(m,nx) = (m,nx)\n",
    "    \n",
    "    y_log_y_a = (1-Y)*(np.log(1-a)) #shape = (m,nx)\n",
    "    \n",
    "    cost = 1/m * (np.sum(y_log_a)+np.sum(y_log_y_a)) #scalar\n",
    "    \n",
    "    dw = 1/m * np.dot(X.T,a-Y) #shape (nx,1)\n",
    "    \n",
    "    db = np.sum(a-Y) #shape = scalar\n",
    "    \n",
    "    return dw, db, cost\n",
    "    \n",
    "\n",
    "def grad_descent(w,b,X,Y,learning_rate = 0.001, num_iter = 100):\n",
    "    \"\"\"\n",
    "    Does gradient descent\n",
    "    \n",
    "    \"\"\"\n",
    "    i = 0\n",
    "    for i in range(num_iter):\n",
    "        \n",
    "        dw,db,cost = cost_func(w,b,X,Y)\n",
    "        \n",
    "        w = w - learning_rate*dw\n",
    "        b = b - learning_rate*db\n",
    "        \n",
    "        print(cost)\n",
    "        \n",
    "    return cost\n",
    "        \n",
    "        \n",
    "    "
   ]
  },
  {
   "cell_type": "code",
   "execution_count": null,
   "id": "c7e1982d",
   "metadata": {},
   "outputs": [],
   "source": []
  },
  {
   "cell_type": "code",
   "execution_count": null,
   "id": "e041a648",
   "metadata": {},
   "outputs": [],
   "source": []
  }
 ],
 "metadata": {
  "kernelspec": {
   "display_name": "Python 3 (ipykernel)",
   "language": "python",
   "name": "python3"
  },
  "language_info": {
   "codemirror_mode": {
    "name": "ipython",
    "version": 3
   },
   "file_extension": ".py",
   "mimetype": "text/x-python",
   "name": "python",
   "nbconvert_exporter": "python",
   "pygments_lexer": "ipython3",
   "version": "3.8.12"
  }
 },
 "nbformat": 4,
 "nbformat_minor": 5
}
