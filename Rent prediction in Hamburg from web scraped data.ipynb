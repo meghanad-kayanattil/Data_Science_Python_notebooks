{
 "cells": [
  {
   "cell_type": "code",
   "execution_count": 274,
   "id": "cc3de4d0",
   "metadata": {},
   "outputs": [],
   "source": [
    "import pandas as pd\n",
    "import matplotlib.pyplot as plt\n",
    "import numpy as np\n",
    "plt.style.use('plot_style_mk.mplstyle')"
   ]
  },
  {
   "cell_type": "markdown",
   "id": "8681cb57",
   "metadata": {},
   "source": [
    "# Cleaning the data"
   ]
  },
  {
   "cell_type": "code",
   "execution_count": 275,
   "id": "eb391c29",
   "metadata": {},
   "outputs": [
    {
     "data": {
      "text/html": [
       "<div>\n",
       "<style scoped>\n",
       "    .dataframe tbody tr th:only-of-type {\n",
       "        vertical-align: middle;\n",
       "    }\n",
       "\n",
       "    .dataframe tbody tr th {\n",
       "        vertical-align: top;\n",
       "    }\n",
       "\n",
       "    .dataframe thead th {\n",
       "        text-align: right;\n",
       "    }\n",
       "</style>\n",
       "<table border=\"1\" class=\"dataframe\">\n",
       "  <thead>\n",
       "    <tr style=\"text-align: right;\">\n",
       "      <th></th>\n",
       "      <th>Area</th>\n",
       "      <th>Rooms</th>\n",
       "      <th>Rent</th>\n",
       "    </tr>\n",
       "  </thead>\n",
       "  <tbody>\n",
       "    <tr>\n",
       "      <th>0</th>\n",
       "      <td>53 - 115 m²</td>\n",
       "      <td>2 - 4 Zi.</td>\n",
       "      <td>1.645 - 2.942 </td>\n",
       "    </tr>\n",
       "    <tr>\n",
       "      <th>1</th>\n",
       "      <td>64.62 m²</td>\n",
       "      <td>3 Zi.</td>\n",
       "      <td>1.357,02 </td>\n",
       "    </tr>\n",
       "    <tr>\n",
       "      <th>2</th>\n",
       "      <td>90.62 m²</td>\n",
       "      <td>3 Zi.</td>\n",
       "      <td>1.721,78 </td>\n",
       "    </tr>\n",
       "    <tr>\n",
       "      <th>3</th>\n",
       "      <td>78.24 m²</td>\n",
       "      <td>3 Zi.</td>\n",
       "      <td>1.760,40 </td>\n",
       "    </tr>\n",
       "    <tr>\n",
       "      <th>4</th>\n",
       "      <td>37.41 - 100.85 m²</td>\n",
       "      <td>1 - 3 Zi.</td>\n",
       "      <td>895 - 1.795 </td>\n",
       "    </tr>\n",
       "  </tbody>\n",
       "</table>\n",
       "</div>"
      ],
      "text/plain": [
       "                Area      Rooms             Rent\n",
       "0        53 - 115 m²  2 - 4 Zi.  1.645 - 2.942 \n",
       "1           64.62 m²      3 Zi.       1.357,02 \n",
       "2           90.62 m²      3 Zi.       1.721,78 \n",
       "3           78.24 m²      3 Zi.       1.760,40 \n",
       "4  37.41 - 100.85 m²  1 - 3 Zi.    895 - 1.795 "
      ]
     },
     "execution_count": 275,
     "metadata": {},
     "output_type": "execute_result"
    }
   ],
   "source": [
    "file = 'housing_data_hamburg_v2.txt'\n",
    "df_housing = pd.read_csv(file, sep = '\\t', encoding= 'unicode_escape')\n",
    "df_housing.head()"
   ]
  },
  {
   "cell_type": "markdown",
   "id": "d39419ec",
   "metadata": {},
   "source": [
    "There are some data points whcih has a range representation rather than just numers and this needs to be removed"
   ]
  },
  {
   "cell_type": "code",
   "execution_count": 276,
   "id": "965355c8",
   "metadata": {},
   "outputs": [
    {
     "name": "stdout",
     "output_type": "stream",
     "text": [
      "53 - 115 m²\n",
      "37.41 - 100.85 m²\n",
      "40 - 136 m²\n",
      "60 - 130 m²\n",
      "40.4 - 120.4 m²\n"
     ]
    }
   ],
   "source": [
    "outlier_area = []\n",
    "for area in df_housing['Area']:\n",
    "    if '-' in str(area):\n",
    "        print(area)\n",
    "        outlier_area.append(area)\n",
    "df_clean = df_housing[df_housing.Area.isin(outlier_area) == False]"
   ]
  },
  {
   "cell_type": "code",
   "execution_count": 277,
   "id": "527f9ad5",
   "metadata": {},
   "outputs": [],
   "source": [
    "df_clean = df_clean[df_clean.Rooms.isin(['10 Zi.', '7 Zi.']) == False]"
   ]
  },
  {
   "cell_type": "code",
   "execution_count": 278,
   "id": "c113a52e",
   "metadata": {},
   "outputs": [
    {
     "data": {
      "text/plain": [
       "True"
      ]
     },
     "execution_count": 278,
     "metadata": {},
     "output_type": "execute_result"
    }
   ],
   "source": [
    "#Checking if there are any rows with missing information\n",
    "df_clean.isnull().values.any()"
   ]
  },
  {
   "cell_type": "code",
   "execution_count": 279,
   "id": "36931c67",
   "metadata": {},
   "outputs": [],
   "source": [
    "#removing the rows with null values\n",
    "df_clean = df_clean.dropna()"
   ]
  },
  {
   "cell_type": "code",
   "execution_count": 280,
   "id": "161bde75",
   "metadata": {},
   "outputs": [],
   "source": [
    "#cleaning the area by removing the m^2 end to the string and changing it into a numpy array\n",
    "#of float data type\n",
    "area_clean = df_clean['Area'].str.replace(' m²','').astype(float).to_numpy()"
   ]
  },
  {
   "cell_type": "code",
   "execution_count": 281,
   "id": "858eda21",
   "metadata": {},
   "outputs": [
    {
     "name": "stderr",
     "output_type": "stream",
     "text": [
      "C:\\Users\\megha\\AppData\\Local\\Temp\\ipykernel_12092\\2989245527.py:6: FutureWarning: The default value of regex will change from True to False in a future version. In addition, single character regular expressions will *not* be treated as literal strings when regex=True.\n",
      "  rent_clean = rent_clean.str.replace('.', '')\n"
     ]
    }
   ],
   "source": [
    "#Rent data is quite nasty in this case, thus we need to remove the\n",
    "#unrecognized unicode symbol, here the euro sign, remove the unnecessary dots used in describing \n",
    "#the rent and substitute dot instead of comma and the produce a numpy array of float \n",
    "#data types\n",
    "rent_clean = df_clean['Rent'].str.replace(' ', '')\n",
    "rent_clean = rent_clean.str.replace('.', '')\n",
    "rent_clean = rent_clean.str.replace(',', '.').astype(float).to_numpy()"
   ]
  },
  {
   "cell_type": "code",
   "execution_count": 282,
   "id": "389bc7ae",
   "metadata": {},
   "outputs": [
    {
     "data": {
      "text/plain": [
       "Text(0, 0.5, 'Rent($in\\\\;eur$)')"
      ]
     },
     "execution_count": 282,
     "metadata": {},
     "output_type": "execute_result"
    },
    {
     "data": {
      "image/png": "[encoded data removed]",
      "text/plain": [
       "<Figure size 432x288 with 1 Axes>"
      ]
     },
     "metadata": {
      "needs_background": "light"
     },
     "output_type": "display_data"
    }
   ],
   "source": [
    "#plotting the area vs rent\n",
    "fig1, ax1 = plt.subplots()\n",
    "ax1.scatter(area_clean, rent_clean)\n",
    "ax1.set_xlabel('Area ($m^2$)')\n",
    "ax1.set_ylabel('Rent($in\\;eur$)')"
   ]
  },
  {
   "cell_type": "code",
   "execution_count": 283,
   "id": "19c0f7c9",
   "metadata": {},
   "outputs": [
    {
     "data": {
      "text/plain": [
       "2.      327\n",
       "3.      232\n",
       "1.      143\n",
       "2.5.     56\n",
       "4.       56\n",
       "1.5.     22\n",
       "5.       12\n",
       "3.5.     10\n",
       "4.5.      6\n",
       "6.        4\n",
       "5.5.      3\n",
       "Name: Rooms, dtype: int64"
      ]
     },
     "execution_count": 283,
     "metadata": {},
     "output_type": "execute_result"
    }
   ],
   "source": [
    "#Inspecting the number of rooms column\n",
    "rooms_clean = df_clean['Rooms'].str.replace(' Zi','')\n",
    "rooms_clean.value_counts()"
   ]
  },
  {
   "cell_type": "code",
   "execution_count": 284,
   "id": "b4180f9d",
   "metadata": {},
   "outputs": [
    {
     "name": "stderr",
     "output_type": "stream",
     "text": [
      "C:\\Users\\megha\\AppData\\Local\\Temp\\ipykernel_12092\\1252654802.py:5: FutureWarning: The default value of regex will change from True to False in a future version.\n",
      "  rooms_clean = rooms_clean.str.replace(a,n)\n"
     ]
    },
    {
     "data": {
      "text/plain": [
       "2.     327\n",
       "3.     232\n",
       "1.     143\n",
       "2.5     56\n",
       "4.      56\n",
       "1.5     22\n",
       "5.      12\n",
       "3.5     10\n",
       "4.5      6\n",
       "6.       4\n",
       "5.5      3\n",
       "Name: Rooms, dtype: int64"
      ]
     },
     "execution_count": 284,
     "metadata": {},
     "output_type": "execute_result"
    }
   ],
   "source": [
    "#replacing the unusable notation to usable numbers and creating a numpy array of float type\n",
    "actual = ['2.5.', '1.5.','3.5.','4.5.', '5.5.']\n",
    "needed =  ['2.5', '1.5','3.5','4.5','5.5']\n",
    "for a, n in zip(actual, needed):\n",
    "    rooms_clean = rooms_clean.str.replace(a,n)\n",
    "rooms_clean.value_counts()"
   ]
  },
  {
   "cell_type": "code",
   "execution_count": 285,
   "id": "a61c07ff",
   "metadata": {},
   "outputs": [],
   "source": [
    "rooms_clean = rooms_clean.astype(float).to_numpy()"
   ]
  },
  {
   "cell_type": "code",
   "execution_count": 286,
   "id": "89538f9e",
   "metadata": {},
   "outputs": [
    {
     "data": {
      "text/plain": [
       "Text(0, 0.5, 'Rent($in\\\\;eur$)')"
      ]
     },
     "execution_count": 286,
     "metadata": {},
     "output_type": "execute_result"
    },
    {
     "data": {
      "image/png": "[encoded data removed]",
      "text/plain": [
       "<Figure size 432x288 with 1 Axes>"
      ]
     },
     "metadata": {
      "needs_background": "light"
     },
     "output_type": "display_data"
    }
   ],
   "source": [
    "fig2, ax2 = plt.subplots()\n",
    "ax2.scatter(rooms_clean, rent_clean)\n",
    "ax2.set_xlabel('Number of rooms')\n",
    "ax2.set_ylabel('Rent($in\\;eur$)')"
   ]
  },
  {
   "cell_type": "markdown",
   "id": "b95f9736",
   "metadata": {},
   "source": [
    "# Training the model"
   ]
  },
  {
   "cell_type": "code",
   "execution_count": 287,
   "id": "b8b3aeca",
   "metadata": {},
   "outputs": [],
   "source": [
    "from sklearn.linear_model import SGDRegressor\n",
    "from sklearn.preprocessing import StandardScaler"
   ]
  },
  {
   "cell_type": "code",
   "execution_count": 288,
   "id": "2ad91f40",
   "metadata": {},
   "outputs": [
    {
     "data": {
      "text/plain": [
       "(871, 2)"
      ]
     },
     "execution_count": 288,
     "metadata": {},
     "output_type": "execute_result"
    }
   ],
   "source": [
    "x_full = np.stack((area_clean, rooms_clean), axis=1)\n",
    "x_full.shape"
   ]
  },
  {
   "cell_type": "code",
   "execution_count": 289,
   "id": "20ad33c9",
   "metadata": {},
   "outputs": [
    {
     "data": {
      "text/plain": [
       "(871,)"
      ]
     },
     "execution_count": 289,
     "metadata": {},
     "output_type": "execute_result"
    }
   ],
   "source": [
    "y_full = rent_clean\n",
    "y_full.shape"
   ]
  },
  {
   "cell_type": "code",
   "execution_count": 290,
   "id": "e6e89d1b",
   "metadata": {},
   "outputs": [],
   "source": [
    "x_train = x_full[:500,:]\n",
    "y_train = y_full[:500]"
   ]
  },
  {
   "cell_type": "code",
   "execution_count": 291,
   "id": "5f7c866a",
   "metadata": {},
   "outputs": [],
   "source": [
    "scalar = StandardScaler()\n",
    "x_norm = scalar.fit_transform(x_train)"
   ]
  },
  {
   "cell_type": "code",
   "execution_count": 292,
   "id": "0c7fd4bc",
   "metadata": {},
   "outputs": [
    {
     "name": "stdout",
     "output_type": "stream",
     "text": [
      "SGDRegressor(max_iter=10000)\n",
      "Number of iterations completed: 38, Number of weight updates: 19001.0\n"
     ]
    }
   ],
   "source": [
    "sgdr = SGDRegressor(max_iter=10000)\n",
    "sgdr.fit(x_norm, y_train)\n",
    "print(sgdr)\n",
    "print(f\"Number of iterations completed: {sgdr.n_iter_}, Number of weight updates: {sgdr.t_}\")"
   ]
  },
  {
   "cell_type": "code",
   "execution_count": 293,
   "id": "018b31a7",
   "metadata": {},
   "outputs": [
    {
     "name": "stdout",
     "output_type": "stream",
     "text": [
      "Model parameters:                   w: [ 570.26869547 -117.41865434], b:[1097.49086378]\n"
     ]
    }
   ],
   "source": [
    "b_norm = sgdr.intercept_\n",
    "w_norm = sgdr.coef_\n",
    "print(f\"Model parameters:                   w: {w_norm}, b:{b_norm}\")"
   ]
  },
  {
   "cell_type": "markdown",
   "id": "114dbdf8",
   "metadata": {},
   "source": [
    "# Predicting the rent"
   ]
  },
  {
   "cell_type": "code",
   "execution_count": 294,
   "id": "a8383eb8",
   "metadata": {},
   "outputs": [],
   "source": [
    "x_test = x_full[500:,:]\n",
    "y_test = y_full[500:]\n",
    "\n",
    "x_test_norm = scalar.fit_transform(x_test)\n",
    "\n",
    "ypred = sgdr.predict(x_test_norm)"
   ]
  },
  {
   "cell_type": "code",
   "execution_count": 295,
   "id": "6d60aa61",
   "metadata": {},
   "outputs": [
    {
     "data": {
      "image/png": "[encoded data removed]",
      "text/plain": [
       "<Figure size 576x288 with 2 Axes>"
      ]
     },
     "metadata": {
      "needs_background": "light"
     },
     "output_type": "display_data"
    }
   ],
   "source": [
    "fig3,ax3=plt.subplots(1,2,figsize=(8,4),sharey=True)\n",
    "for i in range(len(ax3)):\n",
    "    ax3[i].scatter(x_test[:,i],y_test, label = 'target')\n",
    "    ax3[i].scatter(x_test[:,i],ypred, color='orange', label = 'predict')\n",
    "    ax3[i].legend();"
   ]
  },
  {
   "cell_type": "code",
   "execution_count": 296,
   "id": "0dd4fe8c",
   "metadata": {},
   "outputs": [
    {
     "data": {
      "text/plain": [
       "Text(0, 0.5, 'y-predicted')"
      ]
     },
     "execution_count": 296,
     "metadata": {},
     "output_type": "execute_result"
    },
    {
     "data": {
      "image/png": "[encoded data removed]",
      "text/plain": [
       "<Figure size 432x288 with 1 Axes>"
      ]
     },
     "metadata": {
      "needs_background": "light"
     },
     "output_type": "display_data"
    }
   ],
   "source": [
    "fig4, ax4 = plt.subplots()\n",
    "ax4.scatter(y_test,ypred)\n",
    "ax4.set_xlabel('y-test')\n",
    "ax4.set_ylabel('y-predicted')"
   ]
  },
  {
   "cell_type": "markdown",
   "id": "2dc83975",
   "metadata": {},
   "source": [
    "# Assessing the perfomance of the model"
   ]
  },
  {
   "cell_type": "code",
   "execution_count": 301,
   "id": "712a9da5",
   "metadata": {},
   "outputs": [
    {
     "data": {
      "text/plain": [
       "1097.4908637753192"
      ]
     },
     "execution_count": 301,
     "metadata": {},
     "output_type": "execute_result"
    }
   ],
   "source": [
    "def rent_estimator(area, n_rooms):\n",
    "    x_test = np.array([area, n_rooms]).reshape(1,2)\n",
    "    x_test_norm = scalar.fit_transform(x_test)\n",
    "    ypred = sgdr.predict(x_test_norm)\n",
    "    \n",
    "    return ypred[0]\n",
    "\n",
    "rent_estimator(50,1.5)"
   ]
  },
  {
   "cell_type": "code",
   "execution_count": null,
   "id": "d867656f",
   "metadata": {},
   "outputs": [],
   "source": []
  }
 ],
 "metadata": {
  "kernelspec": {
   "display_name": "Python 3 (ipykernel)",
   "language": "python",
   "name": "python3"
  },
  "language_info": {
   "codemirror_mode": {
    "name": "ipython",
    "version": 3
   },
   "file_extension": ".py",
   "mimetype": "text/x-python",
   "name": "python",
   "nbconvert_exporter": "python",
   "pygments_lexer": "ipython3",
   "version": "3.10.4"
  }
 },
 "nbformat": 4,
 "nbformat_minor": 5
}
