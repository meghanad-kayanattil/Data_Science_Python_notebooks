{
 "cells": [
  {
   "cell_type": "markdown",
   "metadata": {},
   "source": [
    "Logistic regression using numpy vectorization only for image classification. Inspired by the Nurel networks and deeplearning course by https://www.deeplearning.ai/"
   ]
  },
  {
   "cell_type": "code",
   "execution_count": 1,
   "metadata": {},
   "outputs": [],
   "source": [
    "import numpy as np\n",
    "import matplotlib.pyplot as plt"
   ]
  },
  {
   "cell_type": "code",
   "execution_count": 2,
   "metadata": {},
   "outputs": [],
   "source": [
    "### Plotting - Settings\n",
    "plt.rcParams['font.family'] = 'sans-serif'\n",
    "plt.rcParams['font.size'] = 18\n",
    "plt.rcParams['axes.labelsize'] = 18\n",
    "plt.rcParams['axes.labelweight'] = 'bold'\n",
    "plt.rcParams['xtick.labelsize'] = 18\n",
    "plt.rcParams['ytick.labelsize'] = 18\n",
    "plt.rcParams['legend.fontsize'] = 18\n",
    "plt.rcParams['figure.titlesize'] = 18\n",
    "plt.rcParams['figure.titleweight'] = 'bold'"
   ]
  },
  {
   "cell_type": "markdown",
   "metadata": {},
   "source": [
    "# Sub functions"
   ]
  },
  {
   "cell_type": "code",
   "execution_count": 3,
   "metadata": {},
   "outputs": [],
   "source": [
    "def w_b_initiation(dim):\n",
    "    \"\"\"\n",
    "    Creates a w vector with zeros\n",
    "    \n",
    "    Input : dimesion of the training example (In case of images the nx of flattened 3d array)\n",
    "    \n",
    "    Output : w of shape(dim,1)\n",
    "             b = 0.0   \n",
    "    \n",
    "    \"\"\"\n",
    "    w = np.zeros(dim) #shape = (nx,1)\n",
    "    w = w.reshape(dim,1)\n",
    "    b = 0.0\n",
    "    return w,b\n",
    "\n",
    "\n",
    "def Z_calc(w,x,b):\n",
    "    \"\"\"\n",
    "    Calculates z given a input data, feature array and b\n",
    "    \n",
    "    Input : x - input data, w - feature array, b - constant\n",
    "    \n",
    "    \"\"\"\n",
    "    z = np.dot(w.T,x)+b #1*nx dot m*nx\n",
    "    return z\n",
    "\n",
    "def sigmoid(z):\n",
    "    \"\"\"\n",
    "    Calculates the sigmoid function value given Z\n",
    "    \n",
    "    \"\"\"\n",
    "    a = 1/(1+np.exp(-z))\n",
    "    return a\n",
    "\n",
    "def cost_func(w,b,X, Y):\n",
    "    \"\"\"\n",
    "    Cost function calculation\n",
    "    \n",
    "    \"\"\"\n",
    "    z = Z_calc(w,X,b) #shape = (m,nx)\n",
    "    a = sigmoid(z) #shape = (m,nx)\n",
    "    m = Y.shape[0]\n",
    "    #y.reshape(m_train,1)\n",
    "    \n",
    "    #a = a.reshape(a.shape[1],1)\n",
    "    \n",
    "    y_log_a = Y*np.log(a) #shape = (m,1)*(m,nx) = (m,nx)\n",
    "    \n",
    "    y_log_y_a = (1-Y)*(np.log(1-a)) #shape = (m,nx)\n",
    "    \n",
    "    cost = -1/m * (np.sum(y_log_a)+np.sum(y_log_y_a)) #scalar\n",
    "    \n",
    "    dw = 1/m * np.dot(X,(a-Y).T) #shape nx*m dot m*1 (nx,1)\n",
    "    \n",
    "    db = np.sum(a-Y) #shape = scalar\n",
    "    \n",
    "    return dw, db, cost\n",
    "    \n",
    "\n",
    "def grad_descent(w,b,X,Y,learning_rate = 0.001, num_iter = 100):\n",
    "    \"\"\"\n",
    "    Does gradient descent\n",
    "    \n",
    "    \"\"\"\n",
    "    costs = np.zeros([1,num_iter])\n",
    "    i = 0\n",
    "    for i in range(num_iter):\n",
    "        \n",
    "        dw,db,cost = cost_func(w,b,X,Y)\n",
    "        \n",
    "        w = w - learning_rate*dw\n",
    "        b = b - learning_rate*db\n",
    "        \n",
    "        #print(cost)\n",
    "        costs[0,i] = cost\n",
    "        \n",
    "    return w,b,cost,costs\n",
    "        \n",
    "def predictions(w,b,X):\n",
    "    \"\"\"\n",
    "    Compare the found values wit actual vlaues\n",
    "    \"\"\"\n",
    "    z = Z_calc(w,X,b)\n",
    "    a = sigmoid(z)\n",
    "    y_predict = np.zeros([1,a.shape[1]])\n",
    "    \n",
    "    for i in range(a.shape[1]):\n",
    "        if a[0,i]<=0.5:\n",
    "            y_predict[0,i] = 0\n",
    "        else:\n",
    "            y_predict[0,i] = 1\n",
    "    \n",
    "            \n",
    "    return y_predict\n",
    "    "
   ]
  },
  {
   "cell_type": "code",
   "execution_count": 4,
   "metadata": {},
   "outputs": [],
   "source": [
    "X = np.random.randn(200,5)\n",
    "\n",
    "Y = np.array([0,1,0,1,0])\n",
    "Y = Y.reshape(1,5)\n",
    "\n",
    "#print(Y)\n",
    "#print(X)"
   ]
  },
  {
   "cell_type": "code",
   "execution_count": 5,
   "metadata": {},
   "outputs": [
    {
     "name": "stdout",
     "output_type": "stream",
     "text": [
      "Shpae(w) = (200, 1)\n",
      "z = [[0. 0. 0. 0. 0.]]\n",
      "a = [[0.5 0.5 0.5 0.5 0.5]]\n"
     ]
    }
   ],
   "source": [
    "w,b = w_b_initiation(X.shape[0])\n",
    "#print(\"w ={}, b = {}\".format(w,b))\n",
    "print(\"Shpae(w) = {}\".format(w.shape))\n",
    "z = Z_calc(w,X,b)\n",
    "print(\"z = {}\".format(z))\n",
    "a = sigmoid(z)\n",
    "print(\"a = {}\".format(a))\n",
    "dw,db,cost = cost_func(w,b,X,Y)\n",
    "w,b,cost,costs = grad_descent(w,b,X,Y, num_iter=1000)\n",
    "a_final = predictions(w,b,X)"
   ]
  },
  {
   "cell_type": "code",
   "execution_count": 6,
   "metadata": {},
   "outputs": [
    {
     "name": "stdout",
     "output_type": "stream",
     "text": [
      "[[0. 1. 0. 1. 0.]]\n"
     ]
    }
   ],
   "source": [
    "print(a_final)"
   ]
  },
  {
   "cell_type": "code",
   "execution_count": 7,
   "metadata": {},
   "outputs": [
    {
     "data": {
      "text/plain": [
       "<matplotlib.collections.PathCollection at 0x26434f00460>"
      ]
     },
     "execution_count": 7,
     "metadata": {},
     "output_type": "execute_result"
    },
    {
     "data": {
      "image/png": "[encoded data removed]",
      "text/plain": [
       "<Figure size 432x288 with 1 Axes>"
      ]
     },
     "metadata": {
      "needs_background": "light"
     },
     "output_type": "display_data"
    }
   ],
   "source": [
    "x_nums = np.arange(1,1001)\n",
    "plt.scatter(x_nums,costs, color = 'black')"
   ]
  },
  {
   "cell_type": "code",
   "execution_count": null,
   "metadata": {},
   "outputs": [],
   "source": []
  },
  {
   "cell_type": "code",
   "execution_count": null,
   "metadata": {},
   "outputs": [],
   "source": []
  }
 ],
 "metadata": {
  "kernelspec": {
   "display_name": "Python 3",
   "language": "python",
   "name": "python3"
  },
  "language_info": {
   "codemirror_mode": {
    "name": "ipython",
    "version": 3
   },
   "file_extension": ".py",
   "mimetype": "text/x-python",
   "name": "python",
   "nbconvert_exporter": "python",
   "pygments_lexer": "ipython3",
   "version": "3.8.5"
  }
 },
 "nbformat": 4,
 "nbformat_minor": 5
}
