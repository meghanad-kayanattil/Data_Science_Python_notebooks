{
 "cells": [
  {
   "cell_type": "code",
   "execution_count": 69,
   "id": "cc3de4d0",
   "metadata": {},
   "outputs": [],
   "source": [
    "import pandas as pd\n",
    "import matplotlib.pyplot as plt\n",
    "import numpy as np\n",
    "plt.style.use('plot_style_mk.mplstyle')\n",
    "plt.rcParams['axes.prop_cycle'] = plt.cycler(color = ['navy','brown','royalblue'])"
   ]
  },
  {
   "cell_type": "markdown",
   "id": "8681cb57",
   "metadata": {},
   "source": [
    "# Cleaning the data"
   ]
  },
  {
   "cell_type": "code",
   "execution_count": 70,
   "id": "eb391c29",
   "metadata": {},
   "outputs": [
    {
     "data": {
      "text/html": [
       "<div>\n",
       "<style scoped>\n",
       "    .dataframe tbody tr th:only-of-type {\n",
       "        vertical-align: middle;\n",
       "    }\n",
       "\n",
       "    .dataframe tbody tr th {\n",
       "        vertical-align: top;\n",
       "    }\n",
       "\n",
       "    .dataframe thead th {\n",
       "        text-align: right;\n",
       "    }\n",
       "</style>\n",
       "<table border=\"1\" class=\"dataframe\">\n",
       "  <thead>\n",
       "    <tr style=\"text-align: right;\">\n",
       "      <th></th>\n",
       "      <th>Area</th>\n",
       "      <th>Rooms</th>\n",
       "      <th>Location</th>\n",
       "      <th>Rent</th>\n",
       "    </tr>\n",
       "  </thead>\n",
       "  <tbody>\n",
       "    <tr>\n",
       "      <th>0</th>\n",
       "      <td>53 - 115</td>\n",
       "      <td>2 - 4</td>\n",
       "      <td>NaN</td>\n",
       "      <td>1.645 - 2.942</td>\n",
       "    </tr>\n",
       "    <tr>\n",
       "      <th>1</th>\n",
       "      <td>64.62</td>\n",
       "      <td>3</td>\n",
       "      <td>NaN</td>\n",
       "      <td>1.357,02</td>\n",
       "    </tr>\n",
       "    <tr>\n",
       "      <th>2</th>\n",
       "      <td>90.62</td>\n",
       "      <td>3</td>\n",
       "      <td>NaN</td>\n",
       "      <td>1.721,78</td>\n",
       "    </tr>\n",
       "    <tr>\n",
       "      <th>3</th>\n",
       "      <td>78.24</td>\n",
       "      <td>3</td>\n",
       "      <td>NaN</td>\n",
       "      <td>1.760,40</td>\n",
       "    </tr>\n",
       "    <tr>\n",
       "      <th>4</th>\n",
       "      <td>37.41 - 100.85</td>\n",
       "      <td>1 - 3</td>\n",
       "      <td>NaN</td>\n",
       "      <td>895 - 1.795</td>\n",
       "    </tr>\n",
       "    <tr>\n",
       "      <th>...</th>\n",
       "      <td>...</td>\n",
       "      <td>...</td>\n",
       "      <td>...</td>\n",
       "      <td>...</td>\n",
       "    </tr>\n",
       "    <tr>\n",
       "      <th>875</th>\n",
       "      <td>54.86</td>\n",
       "      <td>2</td>\n",
       "      <td>Lohbrügge</td>\n",
       "      <td>722</td>\n",
       "    </tr>\n",
       "    <tr>\n",
       "      <th>876</th>\n",
       "      <td>61.38</td>\n",
       "      <td>2</td>\n",
       "      <td>Ottensen</td>\n",
       "      <td>705,87</td>\n",
       "    </tr>\n",
       "    <tr>\n",
       "      <th>877</th>\n",
       "      <td>86.1</td>\n",
       "      <td>2</td>\n",
       "      <td>Eimsbüttel</td>\n",
       "      <td>1.885</td>\n",
       "    </tr>\n",
       "    <tr>\n",
       "      <th>878</th>\n",
       "      <td>66</td>\n",
       "      <td>2</td>\n",
       "      <td>Stellingen</td>\n",
       "      <td>1.396</td>\n",
       "    </tr>\n",
       "    <tr>\n",
       "      <th>879</th>\n",
       "      <td>51.16</td>\n",
       "      <td>2</td>\n",
       "      <td>Lokstedt</td>\n",
       "      <td>555</td>\n",
       "    </tr>\n",
       "  </tbody>\n",
       "</table>\n",
       "<p>880 rows × 4 columns</p>\n",
       "</div>"
      ],
      "text/plain": [
       "               Area  Rooms    Location           Rent\n",
       "0          53 - 115  2 - 4         NaN  1.645 - 2.942\n",
       "1             64.62      3         NaN       1.357,02\n",
       "2             90.62      3         NaN       1.721,78\n",
       "3             78.24      3         NaN       1.760,40\n",
       "4    37.41 - 100.85  1 - 3         NaN    895 - 1.795\n",
       "..              ...    ...         ...            ...\n",
       "875           54.86      2   Lohbrügge            722\n",
       "876           61.38      2    Ottensen         705,87\n",
       "877            86.1      2  Eimsbüttel          1.885\n",
       "878              66      2  Stellingen          1.396\n",
       "879           51.16      2    Lokstedt            555\n",
       "\n",
       "[880 rows x 4 columns]"
      ]
     },
     "execution_count": 70,
     "metadata": {},
     "output_type": "execute_result"
    }
   ],
   "source": [
    "file = 'housing_data_hamburg_v3.txt'\n",
    "df_housing = pd.read_csv(file, sep = '\\t', encoding= 'unicode_escape')\n",
    "df_housing"
   ]
  },
  {
   "cell_type": "markdown",
   "id": "d39419ec",
   "metadata": {},
   "source": [
    "There are some data points whcih has a range representation rather than just numers and this needs to be removed"
   ]
  },
  {
   "cell_type": "code",
   "execution_count": 71,
   "id": "965355c8",
   "metadata": {},
   "outputs": [
    {
     "name": "stdout",
     "output_type": "stream",
     "text": [
      "53 - 115\n",
      "37.41 - 100.85\n",
      "40 - 136\n",
      "60 - 130\n",
      "40.4 - 120.4\n"
     ]
    }
   ],
   "source": [
    "outlier_area = []\n",
    "for area in df_housing['Area']:\n",
    "    if '-' in str(area):\n",
    "        print(area)\n",
    "        outlier_area.append(area)\n",
    "df_clean = df_housing[df_housing.Area.isin(outlier_area) == False]"
   ]
  },
  {
   "cell_type": "code",
   "execution_count": 72,
   "id": "c113a52e",
   "metadata": {},
   "outputs": [
    {
     "data": {
      "text/plain": [
       "True"
      ]
     },
     "execution_count": 72,
     "metadata": {},
     "output_type": "execute_result"
    }
   ],
   "source": [
    "#Checking if there are any rows with missing information\n",
    "df_clean.isnull().values.any()"
   ]
  },
  {
   "cell_type": "code",
   "execution_count": 73,
   "id": "36931c67",
   "metadata": {},
   "outputs": [
    {
     "data": {
      "text/html": [
       "<div>\n",
       "<style scoped>\n",
       "    .dataframe tbody tr th:only-of-type {\n",
       "        vertical-align: middle;\n",
       "    }\n",
       "\n",
       "    .dataframe tbody tr th {\n",
       "        vertical-align: top;\n",
       "    }\n",
       "\n",
       "    .dataframe thead th {\n",
       "        text-align: right;\n",
       "    }\n",
       "</style>\n",
       "<table border=\"1\" class=\"dataframe\">\n",
       "  <thead>\n",
       "    <tr style=\"text-align: right;\">\n",
       "      <th></th>\n",
       "      <th>Area</th>\n",
       "      <th>Rooms</th>\n",
       "      <th>Location</th>\n",
       "      <th>Rent</th>\n",
       "    </tr>\n",
       "  </thead>\n",
       "  <tbody>\n",
       "    <tr>\n",
       "      <th>5</th>\n",
       "      <td>45.43</td>\n",
       "      <td>1</td>\n",
       "      <td>Uhlenhorst</td>\n",
       "      <td>995</td>\n",
       "    </tr>\n",
       "    <tr>\n",
       "      <th>6</th>\n",
       "      <td>51.86</td>\n",
       "      <td>2</td>\n",
       "      <td>Allermöhe</td>\n",
       "      <td>1.135</td>\n",
       "    </tr>\n",
       "    <tr>\n",
       "      <th>8</th>\n",
       "      <td>45.64</td>\n",
       "      <td>2</td>\n",
       "      <td>Wilhelmsburg</td>\n",
       "      <td>1.118</td>\n",
       "    </tr>\n",
       "    <tr>\n",
       "      <th>9</th>\n",
       "      <td>52.07</td>\n",
       "      <td>2</td>\n",
       "      <td>HafenCity</td>\n",
       "      <td>1.275</td>\n",
       "    </tr>\n",
       "    <tr>\n",
       "      <th>10</th>\n",
       "      <td>57.25</td>\n",
       "      <td>2</td>\n",
       "      <td>Winterhude</td>\n",
       "      <td>1.374</td>\n",
       "    </tr>\n",
       "  </tbody>\n",
       "</table>\n",
       "</div>"
      ],
      "text/plain": [
       "     Area Rooms      Location   Rent\n",
       "5   45.43     1    Uhlenhorst    995\n",
       "6   51.86     2     Allermöhe  1.135\n",
       "8   45.64     2  Wilhelmsburg  1.118\n",
       "9   52.07     2     HafenCity  1.275\n",
       "10  57.25     2    Winterhude  1.374"
      ]
     },
     "execution_count": 73,
     "metadata": {},
     "output_type": "execute_result"
    }
   ],
   "source": [
    "#removing the rows with null values\n",
    "df_clean = df_clean.dropna()\n",
    "df_clean.head()"
   ]
  },
  {
   "cell_type": "code",
   "execution_count": 74,
   "id": "80a432a7",
   "metadata": {},
   "outputs": [
    {
     "name": "stdout",
     "output_type": "stream",
     "text": [
      "2      320\n",
      "3      224\n",
      "1      144\n",
      "2.5     58\n",
      "4       54\n",
      "1.5     24\n",
      "3.5     12\n",
      "5       10\n",
      "4.5      6\n",
      "6        4\n",
      "5.5      2\n",
      "10       1\n",
      "7        1\n",
      "Name: Rooms, dtype: int64\n"
     ]
    }
   ],
   "source": [
    "print(df_clean['Rooms'].value_counts())\n",
    "df_clean = df_clean[df_clean.Rooms.isin(['10', '7']) == False]\n",
    "rooms_clean = df_clean['Rooms'].astype(float).to_numpy()"
   ]
  },
  {
   "cell_type": "code",
   "execution_count": 75,
   "id": "de16e1b8",
   "metadata": {},
   "outputs": [
    {
     "name": "stdout",
     "output_type": "stream",
     "text": [
      "Winterhude              40\n",
      "Rahlstedt               39\n",
      "Eimsbüttel              28\n",
      "Barmbek-Nord            27\n",
      "Stellingen              27\n",
      "                        ..\n",
      "Bergstedt                1\n",
      "Ochsenwerder             1\n",
      "Wohldorf-Ohlstedt        1\n",
      "Steilshoop               1\n",
      "Lemsahl-Mellingstedt     1\n",
      "Name: Location, Length: 87, dtype: int64\n"
     ]
    }
   ],
   "source": [
    "print(df_clean['Location'].value_counts())"
   ]
  },
  {
   "cell_type": "code",
   "execution_count": 76,
   "id": "62b2ebce",
   "metadata": {},
   "outputs": [],
   "source": [
    "loc1 = df_clean['Location'].iloc[0]+str(', Hamburg')"
   ]
  },
  {
   "cell_type": "code",
   "execution_count": 77,
   "id": "66eb0346",
   "metadata": {},
   "outputs": [
    {
     "name": "stdout",
     "output_type": "stream",
     "text": [
      "Uhlenhorst, Hamburg-Nord, Hamburg, 22085, Deutschland\n",
      "(53.5715093, 10.0127361)\n"
     ]
    }
   ],
   "source": [
    "import location_finder as lf\n",
    "lat_lon = lf.location_finder(loc1, print_data=True)"
   ]
  },
  {
   "cell_type": "code",
   "execution_count": 78,
   "id": "4a05274a",
   "metadata": {},
   "outputs": [],
   "source": [
    "n_loc = len(df_clean['Location'])\n",
    "latitude, longitude = np.zeros(n_loc), np.zeros(n_loc)\n",
    "for i in range(n_loc):\n",
    "    loc_i = df_clean['Location'].iloc[i]+str(', Hamburg')\n",
    "    latitude[i], longitude[i] = lf.location_finder(loc_i, print_data = False)"
   ]
  },
  {
   "cell_type": "code",
   "execution_count": 79,
   "id": "161bde75",
   "metadata": {},
   "outputs": [],
   "source": [
    "#cleaning the area by removing the m^2 end to the string and changing it into a numpy array\n",
    "#of float data type\n",
    "area_clean = df_clean['Area'].astype(float).to_numpy()"
   ]
  },
  {
   "cell_type": "code",
   "execution_count": 80,
   "id": "858eda21",
   "metadata": {},
   "outputs": [],
   "source": [
    "#Rent data is quite nasty in this case, thus we need to remove the unnecessary dots used in \n",
    "#describingthe rent and substitute dot instead of comma and the produce a numpy array of float data types\n",
    "rent_clean =  df_clean['Rent'].str.replace('.', '', regex=False)\n",
    "rent_clean = rent_clean.str.replace(',', '.', regex=False).astype(float).to_numpy()"
   ]
  },
  {
   "cell_type": "code",
   "execution_count": 81,
   "id": "389bc7ae",
   "metadata": {},
   "outputs": [
    {
     "data": {
      "image/png": "[encoded data removed]",
      "text/plain": [
       "<Figure size 1152x288 with 4 Axes>"
      ]
     },
     "metadata": {
      "needs_background": "light"
     },
     "output_type": "display_data"
    }
   ],
   "source": [
    "xlabel = ['Area ($m^2$)', 'Number of rooms', 'Latitude', 'Longitude']\n",
    "x_plot = [area_clean, rooms_clean, latitude, longitude]\n",
    "\n",
    "#save the clean data frame for later use\n",
    "#dataset = pd.DataFrame({xlabel[0]: x_plot[0], xlabel[1]: x_plot[1], xlabel[2]: x_plot[2], xlabel[3]:x_plot[3], 'Rent (in eur)': rent_clean})\n",
    "#dataset.to_csv('Clean rent data_Hamburg.csv', index=False)\n",
    "\n",
    "#plotting\n",
    "fig1,ax1=plt.subplots(1,4,figsize=(16,4),sharey=True)\n",
    "for i in range(len(ax1)):\n",
    "    ax1[i].scatter(x_plot[i], rent_clean)\n",
    "    ax1[i].set_xlabel(xlabel[i])\n",
    "    ax1[i].set_ylabel('Rent ($in\\;eur$)')"
   ]
  }
 ],
 "metadata": {
  "kernelspec": {
   "display_name": "Python 3 (ipykernel)",
   "language": "python",
   "name": "python3"
  },
  "language_info": {
   "codemirror_mode": {
    "name": "ipython",
    "version": 3
   },
   "file_extension": ".py",
   "mimetype": "text/x-python",
   "name": "python",
   "nbconvert_exporter": "python",
   "pygments_lexer": "ipython3",
   "version": "3.10.4"
  }
 },
 "nbformat": 4,
 "nbformat_minor": 5
}
