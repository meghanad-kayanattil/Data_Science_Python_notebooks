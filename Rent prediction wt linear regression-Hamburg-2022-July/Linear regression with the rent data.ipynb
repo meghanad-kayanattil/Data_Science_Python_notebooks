{
 "cells": [
  {
   "cell_type": "code",
   "execution_count": 1,
   "id": "8281e72b",
   "metadata": {},
   "outputs": [],
   "source": [
    "import pandas as pd\n",
    "import numpy as np\n",
    "import matplotlib.pyplot as plt\n",
    "plt.style.use('plot_style_mk.mplstyle')\n",
    "plt.rcParams['axes.prop_cycle'] = plt.cycler(color = ['navy','brown','royalblue'])"
   ]
  },
  {
   "cell_type": "markdown",
   "id": "b48657a2",
   "metadata": {},
   "source": [
    "## Loading the clean data"
   ]
  },
  {
   "cell_type": "code",
   "execution_count": 2,
   "id": "0b4f5f45",
   "metadata": {},
   "outputs": [
    {
     "data": {
      "text/html": [
       "<div>\n",
       "<style scoped>\n",
       "    .dataframe tbody tr th:only-of-type {\n",
       "        vertical-align: middle;\n",
       "    }\n",
       "\n",
       "    .dataframe tbody tr th {\n",
       "        vertical-align: top;\n",
       "    }\n",
       "\n",
       "    .dataframe thead th {\n",
       "        text-align: right;\n",
       "    }\n",
       "</style>\n",
       "<table border=\"1\" class=\"dataframe\">\n",
       "  <thead>\n",
       "    <tr style=\"text-align: right;\">\n",
       "      <th></th>\n",
       "      <th>Area ($m^2$)</th>\n",
       "      <th>Number of rooms</th>\n",
       "      <th>Latitude</th>\n",
       "      <th>Longitude</th>\n",
       "      <th>Rent (in eur)</th>\n",
       "    </tr>\n",
       "  </thead>\n",
       "  <tbody>\n",
       "    <tr>\n",
       "      <th>0</th>\n",
       "      <td>45.43</td>\n",
       "      <td>1.0</td>\n",
       "      <td>53.571509</td>\n",
       "      <td>10.012736</td>\n",
       "      <td>995.0</td>\n",
       "    </tr>\n",
       "    <tr>\n",
       "      <th>1</th>\n",
       "      <td>51.86</td>\n",
       "      <td>2.0</td>\n",
       "      <td>53.483600</td>\n",
       "      <td>10.125000</td>\n",
       "      <td>1135.0</td>\n",
       "    </tr>\n",
       "    <tr>\n",
       "      <th>2</th>\n",
       "      <td>45.64</td>\n",
       "      <td>2.0</td>\n",
       "      <td>53.492292</td>\n",
       "      <td>9.996217</td>\n",
       "      <td>1118.0</td>\n",
       "    </tr>\n",
       "    <tr>\n",
       "      <th>3</th>\n",
       "      <td>52.07</td>\n",
       "      <td>2.0</td>\n",
       "      <td>53.542913</td>\n",
       "      <td>9.995835</td>\n",
       "      <td>1275.0</td>\n",
       "    </tr>\n",
       "    <tr>\n",
       "      <th>4</th>\n",
       "      <td>57.25</td>\n",
       "      <td>2.0</td>\n",
       "      <td>53.596390</td>\n",
       "      <td>10.003832</td>\n",
       "      <td>1374.0</td>\n",
       "    </tr>\n",
       "  </tbody>\n",
       "</table>\n",
       "</div>"
      ],
      "text/plain": [
       "   Area ($m^2$)  Number of rooms   Latitude  Longitude  Rent (in eur)\n",
       "0         45.43              1.0  53.571509  10.012736          995.0\n",
       "1         51.86              2.0  53.483600  10.125000         1135.0\n",
       "2         45.64              2.0  53.492292   9.996217         1118.0\n",
       "3         52.07              2.0  53.542913   9.995835         1275.0\n",
       "4         57.25              2.0  53.596390  10.003832         1374.0"
      ]
     },
     "execution_count": 2,
     "metadata": {},
     "output_type": "execute_result"
    }
   ],
   "source": [
    "file = 'Clean rent data_Hamburg.csv'\n",
    "df = pd.read_csv(file)\n",
    "df.head()"
   ]
  },
  {
   "cell_type": "markdown",
   "id": "4398a721",
   "metadata": {},
   "source": [
    "## Importing the model for regression"
   ]
  },
  {
   "cell_type": "code",
   "execution_count": 3,
   "id": "1f77d808",
   "metadata": {},
   "outputs": [],
   "source": [
    "from sklearn.linear_model import SGDRegressor\n",
    "from sklearn.preprocessing import StandardScaler"
   ]
  },
  {
   "cell_type": "code",
   "execution_count": 4,
   "id": "f43b5ef7",
   "metadata": {},
   "outputs": [],
   "source": [
    "# Features\n",
    "area = df['Area ($m^2$)']\n",
    "rooms  =df['Number of rooms']\n",
    "latitude = df['Latitude']\n",
    "longitude = df['Latitude']\n",
    "x_full = np.stack((area, rooms, latitude, longitude), axis=1)\n",
    "# --------------------------------------------------------------------\n",
    "# Output\n",
    "rent = df['Rent (in eur)']\n",
    "y_full = rent"
   ]
  },
  {
   "cell_type": "code",
   "execution_count": 5,
   "id": "719d8a2f",
   "metadata": {},
   "outputs": [],
   "source": [
    "x_train = x_full[:700,:]\n",
    "y_train = y_full[:700]"
   ]
  },
  {
   "cell_type": "code",
   "execution_count": 6,
   "id": "816db6c7",
   "metadata": {},
   "outputs": [],
   "source": [
    "scalar = StandardScaler()\n",
    "x_train_norm = scalar.fit_transform(x_train)"
   ]
  },
  {
   "cell_type": "code",
   "execution_count": 7,
   "id": "af0b93e2",
   "metadata": {},
   "outputs": [
    {
     "name": "stdout",
     "output_type": "stream",
     "text": [
      "SGDRegressor(max_iter=10000)\n",
      "Number of iterations completed: 24, Number of weight updates: 16801.0\n",
      "0.6383060661893771\n"
     ]
    }
   ],
   "source": [
    "sgdr = SGDRegressor(max_iter=10000)\n",
    "sgdr.fit(x_train_norm, y_train)\n",
    "print(sgdr)\n",
    "print(f\"Number of iterations completed: {sgdr.n_iter_}, Number of weight updates: {sgdr.t_}\")\n",
    "print(sgdr.score(x_train_norm, y_train))"
   ]
  },
  {
   "cell_type": "markdown",
   "id": "afafd1e9",
   "metadata": {},
   "source": [
    "## Predicting the rent"
   ]
  },
  {
   "cell_type": "code",
   "execution_count": 8,
   "id": "4b4fd8bf",
   "metadata": {},
   "outputs": [],
   "source": [
    "x_test = x_full[700:,:]\n",
    "y_test = y_full[700:]\n",
    "x_test_norm = scalar.fit_transform(x_test)\n",
    "ypred = sgdr.predict(x_test_norm)"
   ]
  },
  {
   "cell_type": "code",
   "execution_count": 9,
   "id": "560ba61c",
   "metadata": {},
   "outputs": [
    {
     "data": {
      "image/png": "[encoded data removed]",
      "text/plain": [
       "<Figure size 1152x288 with 4 Axes>"
      ]
     },
     "metadata": {
      "needs_background": "light"
     },
     "output_type": "display_data"
    }
   ],
   "source": [
    "fig1,ax1=plt.subplots(1,4,figsize=(16,4),sharey=True)\n",
    "for i in range(len(ax1)):\n",
    "    ax1[i].scatter(x_test_norm[:,i],y_test, label = 'target')\n",
    "    ax1[i].scatter(x_test_norm[:,i],ypred, label = 'predict')\n",
    "    ax1[i].legend();"
   ]
  },
  {
   "cell_type": "code",
   "execution_count": 10,
   "id": "70368f53",
   "metadata": {},
   "outputs": [
    {
     "data": {
      "image/png": "[encoded data removed]",
      "text/plain": [
       "<Figure size 432x288 with 1 Axes>"
      ]
     },
     "metadata": {
      "needs_background": "light"
     },
     "output_type": "display_data"
    }
   ],
   "source": [
    "fig4, ax4 = plt.subplots()\n",
    "ax4.scatter(y_test,ypred)\n",
    "ax4.set_xlabel('Rent-test($in\\;eur$)')\n",
    "ax4.set_ylabel('Rent-predi($in\\;eur$)')\n",
    "plt.savefig('model_performance.png', bbox_inches = 'tight')"
   ]
  },
  {
   "cell_type": "markdown",
   "id": "6f242f74",
   "metadata": {},
   "source": [
    "## Assessing the perfomance of the model"
   ]
  },
  {
   "cell_type": "code",
   "execution_count": 11,
   "id": "0cbdbc3a",
   "metadata": {},
   "outputs": [
    {
     "data": {
      "text/plain": [
       "0.6369312404577443"
      ]
     },
     "execution_count": 11,
     "metadata": {},
     "output_type": "execute_result"
    }
   ],
   "source": [
    "sgdr.score(x_test_norm, y_test)"
   ]
  },
  {
   "cell_type": "code",
   "execution_count": 12,
   "id": "20d104d8",
   "metadata": {},
   "outputs": [
    {
     "data": {
      "text/plain": [
       "1099.1816918879265"
      ]
     },
     "execution_count": 12,
     "metadata": {},
     "output_type": "execute_result"
    }
   ],
   "source": [
    "import location_finder as lf\n",
    "\n",
    "\n",
    "def rent_estimator(area, n_rooms, loc='Bahrenfeld, Hamburg'):\n",
    "    lat, long = lf.location_finder(loc)\n",
    "    x_test_i = np.array([area, n_rooms, lat, long]).reshape(1,4)\n",
    "    x_test_norm_i = scalar.fit_transform(x_test_i)\n",
    "    ypred_i = sgdr.predict(x_test_norm_i)\n",
    "    return ypred_i[0]\n",
    "\n",
    "rent_estimator(50,1.5)"
   ]
  },
  {
   "cell_type": "code",
   "execution_count": null,
   "id": "e9eb3775",
   "metadata": {},
   "outputs": [],
   "source": []
  }
 ],
 "metadata": {
  "kernelspec": {
   "display_name": "Python 3 (ipykernel)",
   "language": "python",
   "name": "python3"
  },
  "language_info": {
   "codemirror_mode": {
    "name": "ipython",
    "version": 3
   },
   "file_extension": ".py",
   "mimetype": "text/x-python",
   "name": "python",
   "nbconvert_exporter": "python",
   "pygments_lexer": "ipython3",
   "version": "3.8.12"
  }
 },
 "nbformat": 4,
 "nbformat_minor": 5
}
